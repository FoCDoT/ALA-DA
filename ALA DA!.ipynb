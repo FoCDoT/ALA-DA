{
 "cells": [
  {
   "cell_type": "markdown",
   "metadata": {},
   "source": [
    "# Digital Assignment 1\n",
    "# Applied Linear Algebra\n",
    "# Submitted by :- 16BIT0133 (Ekansh Gayakwad)"
   ]
  },
  {
   "cell_type": "markdown",
   "metadata": {},
   "source": [
    "[handwritten document] (https://github.com/FoCDoT/ALA-DA/blob/master/ala%20da1.pdf)"
   ]
  },
  {
   "cell_type": "code",
   "execution_count": 1,
   "metadata": {},
   "outputs": [],
   "source": [
    "import numpy as np\n",
    "from matplotlib import pyplot as plt\n",
    "from shapely.geometry.polygon import Polygon\n",
    "%matplotlib inline\n",
    "import pickle\n",
    "import math"
   ]
  },
  {
   "cell_type": "markdown",
   "metadata": {},
   "source": [
    "# Question 1"
   ]
  },
  {
   "cell_type": "markdown",
   "metadata": {},
   "source": [
    "### 1.a) Transalation along vector [4,-2]"
   ]
  },
  {
   "cell_type": "code",
   "execution_count": 2,
   "metadata": {},
   "outputs": [
    {
     "data": {
      "text/plain": [
       "[<matplotlib.lines.Line2D at 0x7f9bc4cbd940>]"
      ]
     },
     "execution_count": 2,
     "metadata": {},
     "output_type": "execute_result"
    },
    {
     "data": {
      "image/png": "[encoded data removed]",
      "text/plain": [
       "<Figure size 432x288 with 1 Axes>"
      ]
     },
     "metadata": {
      "needs_background": "light"
     },
     "output_type": "display_data"
    }
   ],
   "source": [
    "#initail polygon is stored in poly variable\n",
    "poly = Polygon([(5, 3),(5, 7), (8, 7),(10, 5),(8, 3)])\n",
    "x1,y1 = poly.exterior.xy\n",
    "#printing polygon\n",
    "plt.xlim(0,20)\n",
    "plt.ylim(0,10)\n",
    "plt.plot(x1, y1, color='k', alpha=1,linewidth=3, solid_capstyle='round', zorder=2)"
   ]
  },
  {
   "cell_type": "code",
   "execution_count": 3,
   "metadata": {},
   "outputs": [],
   "source": [
    "#transformation matrix\n",
    "a = 4\n",
    "b = -2\n",
    "transformation = np.matrix([[ 1,  0,  a],\n",
    "                            [ 0,  1, b],\n",
    "                            [ 0,  0,  1]])"
   ]
  },
  {
   "cell_type": "code",
   "execution_count": 4,
   "metadata": {},
   "outputs": [
    {
     "data": {
      "text/plain": [
       "matrix([[ 5,  5,  8, 10,  8],\n",
       "        [ 3,  7,  7,  5,  3],\n",
       "        [ 1,  1,  1,  1,  1]])"
      ]
     },
     "execution_count": 4,
     "metadata": {},
     "output_type": "execute_result"
    }
   ],
   "source": [
    "coordinate = np.matrix([[ 5,  5,  8,10, 8],\n",
    "                        [ 3,  7,  7, 5,  3],\n",
    "                        [ 1,  1,  1, 1,  1]])\n",
    "coordinate"
   ]
  },
  {
   "cell_type": "code",
   "execution_count": 5,
   "metadata": {},
   "outputs": [
    {
     "name": "stdout",
     "output_type": "stream",
     "text": [
      "[[ 9  9 12 14 12]\n",
      " [ 1  5  5  3  1]\n",
      " [ 1  1  1  1  1]]\n"
     ]
    }
   ],
   "source": [
    "trply =np.matmul(transformation,coordinate)\n",
    "print(trply)"
   ]
  },
  {
   "cell_type": "code",
   "execution_count": 6,
   "metadata": {},
   "outputs": [
    {
     "name": "stdout",
     "output_type": "stream",
     "text": [
      "transformed_polygon : [(9, 1), (9, 5), (12, 5), (14, 3), (12, 1)]\n"
     ]
    }
   ],
   "source": [
    "#function to change homoganeous form to vector form\n",
    "def mat_to_vect(mat):\n",
    "    new_polygon = []\n",
    "    for i in range(5):\n",
    "        new_cordinates = (mat.item(0,i),mat.item(1,i))\n",
    "        new_polygon.append(new_cordinates) \n",
    "    return new_polygon\n",
    "\n",
    "transformed_polygon = mat_to_vect(trply)\n",
    "print(\"transformed_polygon :\",transformed_polygon)"
   ]
  },
  {
   "cell_type": "code",
   "execution_count": 7,
   "metadata": {},
   "outputs": [
    {
     "data": {
      "text/plain": [
       "[<matplotlib.lines.Line2D at 0x7f9bc4c20be0>]"
      ]
     },
     "execution_count": 7,
     "metadata": {},
     "output_type": "execute_result"
    },
    {
     "data": {
      "image/png": "[encoded data removed]",
      "text/plain": [
       "<Figure size 432x288 with 1 Axes>"
      ]
     },
     "metadata": {
      "needs_background": "light"
     },
     "output_type": "display_data"
    }
   ],
   "source": [
    "#printing transformed polygon\n",
    "transformed_polygon = Polygon(transformed_polygon)\n",
    "x,y = transformed_polygon.exterior.xy\n",
    "#printing polygon\n",
    "plt.xlim(0,20)\n",
    "plt.ylim(0,10)\n",
    "plt.plot(x, y, color='b', alpha=1,linewidth=3, solid_capstyle='round', zorder=2)"
   ]
  },
  {
   "cell_type": "markdown",
   "metadata": {},
   "source": [
    "## transformed polygon"
   ]
  },
  {
   "cell_type": "code",
   "execution_count": 8,
   "metadata": {},
   "outputs": [
    {
     "data": {
      "text/plain": [
       "[<matplotlib.lines.Line2D at 0x7f9bc2b981d0>]"
      ]
     },
     "execution_count": 8,
     "metadata": {},
     "output_type": "execute_result"
    },
    {
     "data": {
      "image/png": "[encoded data removed]",
      "text/plain": [
       "<Figure size 432x288 with 1 Axes>"
      ]
     },
     "metadata": {
      "needs_background": "light"
     },
     "output_type": "display_data"
    }
   ],
   "source": [
    "#printing polygon\n",
    "plt.xlim(0,20)\n",
    "plt.ylim(0,10)\n",
    "plt.plot(x1, y1, color='k', alpha=1,linewidth=3, solid_capstyle='round', zorder=2)\n",
    "plt.plot(x, y, color='b', alpha=1,linewidth=3, solid_capstyle='round', zorder=2)"
   ]
  },
  {
   "cell_type": "markdown",
   "metadata": {},
   "source": [
    "### 1.b) rotation about the origin through θ = 30°"
   ]
  },
  {
   "cell_type": "code",
   "execution_count": 9,
   "metadata": {},
   "outputs": [
    {
     "data": {
      "text/plain": [
       "matrix([[ 0.8660254, -0.5      ,  0.       ],\n",
       "        [ 0.5      ,  0.8660254,  0.       ],\n",
       "        [ 0.       ,  0.       ,  1.       ]])"
      ]
     },
     "execution_count": 9,
     "metadata": {},
     "output_type": "execute_result"
    }
   ],
   "source": [
    "#rotation matrix\n",
    "θ = math.pi /6 # 30°\n",
    "rotation = np.matrix([[ np.cos(θ), -np.sin(θ), 0],\n",
    "                      [ np.sin(θ), np.cos(θ), 0],\n",
    "                      [ 0,  0,  1]])\n",
    "rotation"
   ]
  },
  {
   "cell_type": "code",
   "execution_count": 10,
   "metadata": {},
   "outputs": [
    {
     "name": "stdout",
     "output_type": "stream",
     "text": [
      "[[ 3.  1.  3.  6.  5.]\n",
      " [ 5.  9. 10.  9.  7.]\n",
      " [ 1.  1.  1.  1.  1.]]\n"
     ]
    }
   ],
   "source": [
    "rotationPoly = np.matmul(rotation,coordinate).round()\n",
    "print(rotationPoly)"
   ]
  },
  {
   "cell_type": "code",
   "execution_count": 11,
   "metadata": {},
   "outputs": [
    {
     "name": "stdout",
     "output_type": "stream",
     "text": [
      "rotated_polynomial : [(3.0, 5.0), (1.0, 9.0), (3.0, 10.0), (6.0, 9.0), (5.0, 7.0)]\n"
     ]
    }
   ],
   "source": [
    "rotated_polynomial = mat_to_vect(rotationPoly)\n",
    "print(\"rotated_polynomial :\", rotated_polynomial )"
   ]
  },
  {
   "cell_type": "code",
   "execution_count": 12,
   "metadata": {},
   "outputs": [
    {
     "data": {
      "text/plain": [
       "[<matplotlib.lines.Line2D at 0x7f9bc2bca0b8>]"
      ]
     },
     "execution_count": 12,
     "metadata": {},
     "output_type": "execute_result"
    },
    {
     "data": {
      "image/png": "[encoded data removed]",
      "text/plain": [
       "<Figure size 432x288 with 1 Axes>"
      ]
     },
     "metadata": {
      "needs_background": "light"
     },
     "output_type": "display_data"
    }
   ],
   "source": [
    "#printing rotated polynomial\n",
    "rotated_polynomial = Polygon(rotated_polynomial)\n",
    "x,y = rotated_polynomial.exterior.xy\n",
    "#printing polygon\n",
    "plt.xlim(0,20)\n",
    "plt.ylim(0,12)\n",
    "plt.plot(x, y, color='b', alpha=1,linewidth=3, solid_capstyle='round', zorder=2)"
   ]
  },
  {
   "cell_type": "markdown",
   "metadata": {},
   "source": [
    "## rotated polynomial"
   ]
  },
  {
   "cell_type": "code",
   "execution_count": 13,
   "metadata": {},
   "outputs": [
    {
     "data": {
      "text/plain": [
       "[<matplotlib.lines.Line2D at 0x7f9bec3f2860>]"
      ]
     },
     "execution_count": 13,
     "metadata": {},
     "output_type": "execute_result"
    },
    {
     "data": {
      "image/png": "[encoded data removed]",
      "text/plain": [
       "<Figure size 432x288 with 1 Axes>"
      ]
     },
     "metadata": {
      "needs_background": "light"
     },
     "output_type": "display_data"
    }
   ],
   "source": [
    "#printing polygon\n",
    "plt.xlim(0,20)\n",
    "plt.ylim(0,12)\n",
    "plt.plot(x1, y1, color='k', alpha=1,linewidth=3, solid_capstyle='round', zorder=2)\n",
    "plt.plot(x, y, color='b', alpha=1,linewidth=3, solid_capstyle='round', zorder=2)"
   ]
  },
  {
   "cell_type": "markdown",
   "metadata": {},
   "source": [
    "### 1.c) reflection about the line y =3x"
   ]
  },
  {
   "cell_type": "code",
   "execution_count": 14,
   "metadata": {},
   "outputs": [
    {
     "data": {
      "text/plain": [
       "matrix([[-0.8,  0.6,  0. ],\n",
       "        [ 0.6,  0.8,  0. ],\n",
       "        [ 0. ,  0. ,  1. ]])"
      ]
     },
     "execution_count": 14,
     "metadata": {},
     "output_type": "execute_result"
    }
   ],
   "source": [
    "m = 3\n",
    "a = (1/(1+m**2))\n",
    "reflection = np.matrix([[ a*(1-m**2), a*(2*m), 0],\n",
    "                      [ a*(2*m), a*(m**2-1), 0],\n",
    "                      [ 0,  0,  a*(1+m**2)]])\n",
    "reflection"
   ]
  },
  {
   "cell_type": "code",
   "execution_count": 15,
   "metadata": {},
   "outputs": [
    {
     "name": "stdout",
     "output_type": "stream",
     "text": [
      "[[-2.  0. -2. -5. -5.]\n",
      " [ 5.  9. 10. 10.  7.]\n",
      " [ 1.  1.  1.  1.  1.]]\n"
     ]
    }
   ],
   "source": [
    "reflect = np.matmul(reflection, coordinate).round()\n",
    "print(reflect)"
   ]
  },
  {
   "cell_type": "code",
   "execution_count": 16,
   "metadata": {},
   "outputs": [
    {
     "name": "stdout",
     "output_type": "stream",
     "text": [
      "reflected_polygon) : [(-2.0, 5.0), (0.0, 9.0), (-2.0, 10.0), (-5.0, 10.0), (-5.0, 7.0)]\n"
     ]
    }
   ],
   "source": [
    "reflected_polygon = mat_to_vect(reflect)\n",
    "print(\"reflected_polygon) :\",reflected_polygon)"
   ]
  },
  {
   "cell_type": "code",
   "execution_count": 17,
   "metadata": {},
   "outputs": [
    {
     "data": {
      "text/plain": [
       "[<matplotlib.lines.Line2D at 0x7f9bc2b44ac8>]"
      ]
     },
     "execution_count": 17,
     "metadata": {},
     "output_type": "execute_result"
    },
    {
     "data": {
      "image/png": "[encoded data removed]",
      "text/plain": [
       "<Figure size 432x288 with 1 Axes>"
      ]
     },
     "metadata": {
      "needs_background": "light"
     },
     "output_type": "display_data"
    }
   ],
   "source": [
    "#printing reflected polynomial\n",
    "reflected_polygon= Polygon(reflected_polygon)\n",
    "x,y = reflected_polygon.exterior.xy\n",
    "#printing polygon\n",
    "plt.xlim(-12,12)\n",
    "plt.ylim(-12,12)\n",
    "plt.plot(x, y, color='b', alpha=1,linewidth=3, solid_capstyle='round', zorder=2)"
   ]
  },
  {
   "cell_type": "markdown",
   "metadata": {},
   "source": [
    "## reflected polynomial"
   ]
  },
  {
   "cell_type": "code",
   "execution_count": 18,
   "metadata": {},
   "outputs": [
    {
     "data": {
      "text/plain": [
       "[<matplotlib.lines.Line2D at 0x7f9bc2b040b8>]"
      ]
     },
     "execution_count": 18,
     "metadata": {},
     "output_type": "execute_result"
    },
    {
     "data": {
      "image/png": "[encoded data removed]",
      "text/plain": [
       "<Figure size 432x288 with 1 Axes>"
      ]
     },
     "metadata": {
      "needs_background": "light"
     },
     "output_type": "display_data"
    }
   ],
   "source": [
    "#printing polygon\n",
    "plt.xlim(-12,12)\n",
    "plt.ylim(-12,12)\n",
    "plt.plot(x1, y1, color='k', alpha=1,linewidth=3, solid_capstyle='round', zorder=2)\n",
    "plt.plot(x, y, color='b', alpha=1,linewidth=3, solid_capstyle='round', zorder=2)"
   ]
  },
  {
   "cell_type": "markdown",
   "metadata": {},
   "source": [
    "### 1.d) scaling about the origin with scale factors of 4 in the x-direction and 2 in the y-direction"
   ]
  },
  {
   "cell_type": "code",
   "execution_count": 19,
   "metadata": {},
   "outputs": [
    {
     "data": {
      "text/plain": [
       "matrix([[4, 0, 0],\n",
       "        [0, 2, 0],\n",
       "        [0, 0, 1]])"
      ]
     },
     "execution_count": 19,
     "metadata": {},
     "output_type": "execute_result"
    }
   ],
   "source": [
    "c = 4\n",
    "d = 2\n",
    "scale = np.matrix([[ c,  0,  0],\n",
    "                   [ 0,  d, 0],\n",
    "                   [ 0,  0,  1]])\n",
    "scale"
   ]
  },
  {
   "cell_type": "code",
   "execution_count": 20,
   "metadata": {},
   "outputs": [
    {
     "name": "stdout",
     "output_type": "stream",
     "text": [
      "[[20 20 32 40 32]\n",
      " [ 6 14 14 10  6]\n",
      " [ 1  1  1  1  1]]\n"
     ]
    }
   ],
   "source": [
    "scaled = np.matmul(scale, coordinate)\n",
    "print(scaled)"
   ]
  },
  {
   "cell_type": "code",
   "execution_count": 21,
   "metadata": {},
   "outputs": [
    {
     "name": "stdout",
     "output_type": "stream",
     "text": [
      "scaled_polygon) : [(20, 6), (20, 14), (32, 14), (40, 10), (32, 6)]\n"
     ]
    }
   ],
   "source": [
    "scaled_polygon = mat_to_vect(scaled)\n",
    "print(\"scaled_polygon) :\",scaled_polygon)"
   ]
  },
  {
   "cell_type": "code",
   "execution_count": 22,
   "metadata": {},
   "outputs": [
    {
     "data": {
      "text/plain": [
       "[<matplotlib.lines.Line2D at 0x7f9bc2a61fd0>]"
      ]
     },
     "execution_count": 22,
     "metadata": {},
     "output_type": "execute_result"
    },
    {
     "data": {
      "image/png": "[encoded data removed]",
      "text/plain": [
       "<Figure size 432x288 with 1 Axes>"
      ]
     },
     "metadata": {
      "needs_background": "light"
     },
     "output_type": "display_data"
    }
   ],
   "source": [
    "#printing scaled polynomial\n",
    "scaled_polygon= Polygon(scaled_polygon)\n",
    "x,y = scaled_polygon.exterior.xy\n",
    "#printing polygon\n",
    "plt.xlim(0,45)\n",
    "plt.ylim(0,20)\n",
    "plt.plot(x, y, color='b', alpha=1,linewidth=3, solid_capstyle='round', zorder=2)"
   ]
  },
  {
   "cell_type": "markdown",
   "metadata": {},
   "source": [
    "## scaled polynomial"
   ]
  },
  {
   "cell_type": "code",
   "execution_count": 23,
   "metadata": {},
   "outputs": [
    {
     "data": {
      "text/plain": [
       "[<matplotlib.lines.Line2D at 0x7f9bc2a820f0>]"
      ]
     },
     "execution_count": 23,
     "metadata": {},
     "output_type": "execute_result"
    },
    {
     "data": {
      "image/png": "[encoded data removed]",
      "text/plain": [
       "<Figure size 432x288 with 1 Axes>"
      ]
     },
     "metadata": {
      "needs_background": "light"
     },
     "output_type": "display_data"
    }
   ],
   "source": [
    "#printing polygon\n",
    "plt.xlim(0,45)\n",
    "plt.ylim(0,20)\n",
    "plt.plot(x1, y1, color='k', alpha=1,linewidth=3, solid_capstyle='round', zorder=2)\n",
    "plt.plot(x, y, color='b', alpha=1,linewidth=3, solid_capstyle='round', zorder=2)"
   ]
  },
  {
   "cell_type": "markdown",
   "metadata": {},
   "source": [
    "# Question 2"
   ]
  },
  {
   "cell_type": "markdown",
   "metadata": {},
   "source": [
    "### 2.a) Transalation along vector [3,5]"
   ]
  },
  {
   "cell_type": "code",
   "execution_count": 24,
   "metadata": {},
   "outputs": [
    {
     "data": {
      "text/plain": [
       "[<matplotlib.lines.Line2D at 0x7f9bc2a41d30>]"
      ]
     },
     "execution_count": 24,
     "metadata": {},
     "output_type": "execute_result"
    },
    {
     "data": {
      "image/png": "[encoded data removed]",
      "text/plain": [
       "<Figure size 432x288 with 1 Axes>"
      ]
     },
     "metadata": {
      "needs_background": "light"
     },
     "output_type": "display_data"
    }
   ],
   "source": [
    "#initail polygon is stored in poly variable\n",
    "poly = Polygon([(6, 6),(10, 6), (18, 6),(14, 2),(10, 6),(8, 4)])\n",
    "x1,y1 = poly.exterior.xy\n",
    "#printing polygon\n",
    "plt.xlim(0,20)\n",
    "plt.ylim(0,10)\n",
    "plt.plot(x1, y1, color='k', alpha=1,linewidth=3, solid_capstyle='round', zorder=2)"
   ]
  },
  {
   "cell_type": "code",
   "execution_count": 25,
   "metadata": {},
   "outputs": [
    {
     "data": {
      "text/plain": [
       "matrix([[1, 0, 3],\n",
       "        [0, 1, 5],\n",
       "        [0, 0, 1]])"
      ]
     },
     "execution_count": 25,
     "metadata": {},
     "output_type": "execute_result"
    }
   ],
   "source": [
    "#transformation matrix\n",
    "a = 3\n",
    "b = 5\n",
    "transformation = np.matrix([[ 1,  0,  a],\n",
    "                            [ 0,  1, b],\n",
    "                            [ 0,  0,  1]])\n",
    "transformation"
   ]
  },
  {
   "cell_type": "code",
   "execution_count": 26,
   "metadata": {},
   "outputs": [
    {
     "data": {
      "text/plain": [
       "matrix([[ 6, 10, 18, 14, 10,  8],\n",
       "        [ 6,  6,  6,  2,  6,  4],\n",
       "        [ 1,  1,  1,  1,  1,  1]])"
      ]
     },
     "execution_count": 26,
     "metadata": {},
     "output_type": "execute_result"
    }
   ],
   "source": [
    "coordinate = np.matrix([[ 6, 10, 18, 14, 10, 8],\n",
    "                        [ 6, 6, 6, 2, 6, 4],\n",
    "                        [ 1, 1, 1, 1, 1, 1]])\n",
    "coordinate"
   ]
  },
  {
   "cell_type": "code",
   "execution_count": 27,
   "metadata": {},
   "outputs": [
    {
     "name": "stdout",
     "output_type": "stream",
     "text": [
      "[[ 9 13 21 17 13 11]\n",
      " [11 11 11  7 11  9]\n",
      " [ 1  1  1  1  1  1]]\n"
     ]
    }
   ],
   "source": [
    "trply =np.matmul(transformation,coordinate)\n",
    "print(trply)"
   ]
  },
  {
   "cell_type": "code",
   "execution_count": 28,
   "metadata": {},
   "outputs": [
    {
     "name": "stdout",
     "output_type": "stream",
     "text": [
      "transformed_polygon : [(9, 11), (13, 11), (21, 11), (17, 7), (13, 11), (11, 9)]\n"
     ]
    }
   ],
   "source": [
    "#function to change homoganeous form to vector form\n",
    "def mat_to_vect(mat):\n",
    "    new_polygon = []\n",
    "    for i in range(6):\n",
    "        new_cordinates = (mat.item(0,i),mat.item(1,i))\n",
    "        new_polygon.append(new_cordinates) \n",
    "    return new_polygon\n",
    "\n",
    "\n",
    "transformed_polygon = mat_to_vect(trply)\n",
    "print(\"transformed_polygon :\",transformed_polygon)"
   ]
  },
  {
   "cell_type": "code",
   "execution_count": 29,
   "metadata": {},
   "outputs": [
    {
     "data": {
      "text/plain": [
       "[<matplotlib.lines.Line2D at 0x7f9bc299efd0>]"
      ]
     },
     "execution_count": 29,
     "metadata": {},
     "output_type": "execute_result"
    },
    {
     "data": {
      "image/png": "[encoded data removed]",
      "text/plain": [
       "<Figure size 432x288 with 1 Axes>"
      ]
     },
     "metadata": {
      "needs_background": "light"
     },
     "output_type": "display_data"
    }
   ],
   "source": [
    "#printing transformed polygon\n",
    "transformed_polygon = Polygon(transformed_polygon)\n",
    "x,y = transformed_polygon.exterior.xy\n",
    "#printing polygon\n",
    "plt.xlim(0,25)\n",
    "plt.ylim(0,15)\n",
    "plt.plot(x, y, color='b', alpha=1,linewidth=3, solid_capstyle='round', zorder=2)"
   ]
  },
  {
   "cell_type": "markdown",
   "metadata": {},
   "source": [
    "## transformed polygon"
   ]
  },
  {
   "cell_type": "code",
   "execution_count": 30,
   "metadata": {},
   "outputs": [
    {
     "data": {
      "text/plain": [
       "[<matplotlib.lines.Line2D at 0x7f9bc29b7a90>]"
      ]
     },
     "execution_count": 30,
     "metadata": {},
     "output_type": "execute_result"
    },
    {
     "data": {
      "image/png": "[encoded data removed]",
      "text/plain": [
       "<Figure size 432x288 with 1 Axes>"
      ]
     },
     "metadata": {
      "needs_background": "light"
     },
     "output_type": "display_data"
    }
   ],
   "source": [
    "#printing polygon\n",
    "plt.xlim(0,25)\n",
    "plt.ylim(0,15)\n",
    "plt.plot(x1, y1, color='k', alpha=1,linewidth=3, solid_capstyle='round', zorder=2)\n",
    "plt.plot(x, y, color='b', alpha=1,linewidth=3, solid_capstyle='round', zorder=2)"
   ]
  },
  {
   "cell_type": "markdown",
   "metadata": {},
   "source": [
    "### 2.b) rotation about the origin through θ = 120°"
   ]
  },
  {
   "cell_type": "code",
   "execution_count": 31,
   "metadata": {},
   "outputs": [
    {
     "data": {
      "text/plain": [
       "matrix([[-0.5      , -0.8660254,  0.       ],\n",
       "        [ 0.8660254, -0.5      ,  0.       ],\n",
       "        [ 0.       ,  0.       ,  1.       ]])"
      ]
     },
     "execution_count": 31,
     "metadata": {},
     "output_type": "execute_result"
    }
   ],
   "source": [
    "#rotation matrix\n",
    "θ = 2*math.pi/3 # 120°\n",
    "rotation = np.matrix([[ np.cos(θ), -np.sin(θ), 0],\n",
    "                      [ np.sin(θ), np.cos(θ), 0],\n",
    "                      [ 0,  0,  1]])\n",
    "\n",
    "rotation"
   ]
  },
  {
   "cell_type": "code",
   "execution_count": 32,
   "metadata": {},
   "outputs": [
    {
     "name": "stdout",
     "output_type": "stream",
     "text": [
      "[[ -8. -10. -14.  -9. -10.  -7.]\n",
      " [  2.   6.  13.  11.   6.   5.]\n",
      " [  1.   1.   1.   1.   1.   1.]]\n"
     ]
    }
   ],
   "source": [
    "rotationPoly = np.matmul(rotation,coordinate).round()\n",
    "print(rotationPoly)"
   ]
  },
  {
   "cell_type": "code",
   "execution_count": 33,
   "metadata": {},
   "outputs": [
    {
     "name": "stdout",
     "output_type": "stream",
     "text": [
      "rotated_polynomial : [(-8.0, 2.0), (-10.0, 6.0), (-14.0, 13.0), (-9.0, 11.0), (-10.0, 6.0), (-7.0, 5.0)]\n"
     ]
    }
   ],
   "source": [
    "rotated_polynomial = mat_to_vect(rotationPoly)\n",
    "print(\"rotated_polynomial :\", rotated_polynomial )"
   ]
  },
  {
   "cell_type": "code",
   "execution_count": 34,
   "metadata": {},
   "outputs": [
    {
     "data": {
      "text/plain": [
       "[<matplotlib.lines.Line2D at 0x7f9bc2979c88>]"
      ]
     },
     "execution_count": 34,
     "metadata": {},
     "output_type": "execute_result"
    },
    {
     "data": {
      "image/png": "[encoded data removed]",
      "text/plain": [
       "<Figure size 432x288 with 1 Axes>"
      ]
     },
     "metadata": {
      "needs_background": "light"
     },
     "output_type": "display_data"
    }
   ],
   "source": [
    "#printing rotated polynomial\n",
    "rotated_polynomial = Polygon(rotated_polynomial)\n",
    "x,y = rotated_polynomial.exterior.xy\n",
    "#printing polygon\n",
    "plt.xlim(-20,25)\n",
    "plt.ylim(0,15)\n",
    "plt.plot(x, y, color='b', alpha=1,linewidth=3, solid_capstyle='round', zorder=2)"
   ]
  },
  {
   "cell_type": "markdown",
   "metadata": {},
   "source": [
    "## rotated polynomial"
   ]
  },
  {
   "cell_type": "code",
   "execution_count": 35,
   "metadata": {},
   "outputs": [
    {
     "data": {
      "text/plain": [
       "[<matplotlib.lines.Line2D at 0x7f9bc2936400>]"
      ]
     },
     "execution_count": 35,
     "metadata": {},
     "output_type": "execute_result"
    },
    {
     "data": {
      "image/png": "[encoded data removed]",
      "text/plain": [
       "<Figure size 432x288 with 1 Axes>"
      ]
     },
     "metadata": {
      "needs_background": "light"
     },
     "output_type": "display_data"
    }
   ],
   "source": [
    "#printing polygon\n",
    "plt.xlim(-20,25)\n",
    "plt.ylim(0,15)\n",
    "plt.plot(x1, y1, color='k', alpha=1,linewidth=3, solid_capstyle='round', zorder=2)\n",
    "plt.plot(x, y, color='b', alpha=1,linewidth=3, solid_capstyle='round', zorder=2)"
   ]
  },
  {
   "cell_type": "markdown",
   "metadata": {},
   "source": [
    "### 2.c) reflection about the line y =(1/2)x"
   ]
  },
  {
   "cell_type": "code",
   "execution_count": 36,
   "metadata": {},
   "outputs": [
    {
     "data": {
      "text/plain": [
       "matrix([[ 0.6,  0.8,  0. ],\n",
       "        [ 0.8, -0.6,  0. ],\n",
       "        [ 0. ,  0. ,  1. ]])"
      ]
     },
     "execution_count": 36,
     "metadata": {},
     "output_type": "execute_result"
    }
   ],
   "source": [
    "m = 1/2\n",
    "a = (1/(1+m**2))\n",
    "reflection = np.matrix([[ a*(1-m**2), a*(2*m), 0],\n",
    "                      [ a*(2*m), a*(m**2-1), 0],\n",
    "                      [ 0,  0,  a*(1+m**2)]])\n",
    "reflection"
   ]
  },
  {
   "cell_type": "code",
   "execution_count": 37,
   "metadata": {},
   "outputs": [
    {
     "name": "stdout",
     "output_type": "stream",
     "text": [
      "[[ 8. 11. 16. 10. 11.  8.]\n",
      " [ 1.  4. 11. 10.  4.  4.]\n",
      " [ 1.  1.  1.  1.  1.  1.]]\n"
     ]
    }
   ],
   "source": [
    "reflect = np.matmul(reflection, coordinate).round()\n",
    "print(reflect)"
   ]
  },
  {
   "cell_type": "code",
   "execution_count": 38,
   "metadata": {},
   "outputs": [
    {
     "name": "stdout",
     "output_type": "stream",
     "text": [
      "reflected_polygon) : [(8.0, 1.0), (11.0, 4.0), (16.0, 11.0), (10.0, 10.0), (11.0, 4.0), (8.0, 4.0)]\n"
     ]
    }
   ],
   "source": [
    "reflected_polygon = mat_to_vect(reflect)\n",
    "print(\"reflected_polygon) :\",reflected_polygon)"
   ]
  },
  {
   "cell_type": "code",
   "execution_count": 39,
   "metadata": {},
   "outputs": [
    {
     "data": {
      "text/plain": [
       "[<matplotlib.lines.Line2D at 0x7f9bc28e7d68>]"
      ]
     },
     "execution_count": 39,
     "metadata": {},
     "output_type": "execute_result"
    },
    {
     "data": {
      "image/png": "[encoded data removed]",
      "text/plain": [
       "<Figure size 432x288 with 1 Axes>"
      ]
     },
     "metadata": {
      "needs_background": "light"
     },
     "output_type": "display_data"
    }
   ],
   "source": [
    "#printing reflected polynomial\n",
    "reflected_polygon= Polygon(reflected_polygon)\n",
    "x,y = reflected_polygon.exterior.xy\n",
    "#printing polygon\n",
    "plt.xlim(0,20)\n",
    "plt.ylim(0,15)\n",
    "plt.plot(x, y, color='b', alpha=1,linewidth=3, solid_capstyle='round', zorder=2)"
   ]
  },
  {
   "cell_type": "markdown",
   "metadata": {},
   "source": [
    "## reflected polynomial"
   ]
  },
  {
   "cell_type": "code",
   "execution_count": 40,
   "metadata": {},
   "outputs": [
    {
     "data": {
      "text/plain": [
       "[<matplotlib.lines.Line2D at 0x7f9bc28f94e0>]"
      ]
     },
     "execution_count": 40,
     "metadata": {},
     "output_type": "execute_result"
    },
    {
     "data": {
      "image/png": "[encoded data removed]",
      "text/plain": [
       "<Figure size 432x288 with 1 Axes>"
      ]
     },
     "metadata": {
      "needs_background": "light"
     },
     "output_type": "display_data"
    }
   ],
   "source": [
    "#printing polygon\n",
    "plt.xlim(0,20)\n",
    "plt.ylim(0,15)\n",
    "plt.plot(x1, y1, color='k', alpha=1,linewidth=3, solid_capstyle='round', zorder=2)\n",
    "plt.plot(x, y, color='b', alpha=1,linewidth=3, solid_capstyle='round', zorder=2)"
   ]
  },
  {
   "cell_type": "markdown",
   "metadata": {},
   "source": [
    "### 2.d) scaling about the origin with scale factors of 1/ 2 in the x-direction and 3 in the y-direction"
   ]
  },
  {
   "cell_type": "code",
   "execution_count": 41,
   "metadata": {},
   "outputs": [
    {
     "data": {
      "text/plain": [
       "matrix([[0.5, 0. , 0. ],\n",
       "        [0. , 3. , 0. ],\n",
       "        [0. , 0. , 1. ]])"
      ]
     },
     "execution_count": 41,
     "metadata": {},
     "output_type": "execute_result"
    }
   ],
   "source": [
    "c = 1/2\n",
    "d = 3\n",
    "scale = np.matrix([[ c,  0,  0],\n",
    "                   [ 0,  d, 0],\n",
    "                   [ 0,  0,  1]])\n",
    "scale"
   ]
  },
  {
   "cell_type": "code",
   "execution_count": 42,
   "metadata": {},
   "outputs": [
    {
     "name": "stdout",
     "output_type": "stream",
     "text": [
      "[[ 3.  5.  9.  7.  5.  4.]\n",
      " [18. 18. 18.  6. 18. 12.]\n",
      " [ 1.  1.  1.  1.  1.  1.]]\n"
     ]
    }
   ],
   "source": [
    "scaled = np.matmul(scale, coordinate)\n",
    "print(scaled)"
   ]
  },
  {
   "cell_type": "code",
   "execution_count": 43,
   "metadata": {},
   "outputs": [
    {
     "name": "stdout",
     "output_type": "stream",
     "text": [
      "scaled_polygon) : [(3.0, 18.0), (5.0, 18.0), (9.0, 18.0), (7.0, 6.0), (5.0, 18.0), (4.0, 12.0)]\n"
     ]
    }
   ],
   "source": [
    "scaled_polygon = mat_to_vect(scaled)\n",
    "print(\"scaled_polygon) :\",scaled_polygon)"
   ]
  },
  {
   "cell_type": "code",
   "execution_count": 44,
   "metadata": {},
   "outputs": [
    {
     "data": {
      "text/plain": [
       "[<matplotlib.lines.Line2D at 0x7f9bc2873470>]"
      ]
     },
     "execution_count": 44,
     "metadata": {},
     "output_type": "execute_result"
    },
    {
     "data": {
      "image/png": "[encoded data removed]",
      "text/plain": [
       "<Figure size 432x288 with 1 Axes>"
      ]
     },
     "metadata": {
      "needs_background": "light"
     },
     "output_type": "display_data"
    }
   ],
   "source": [
    "#printing scaled polynomial\n",
    "scaled_polygon= Polygon(scaled_polygon)\n",
    "x,y = scaled_polygon.exterior.xy\n",
    "#printing polygon\n",
    "plt.xlim(0,20)\n",
    "plt.ylim(0,20)\n",
    "plt.plot(x, y, color='b', alpha=1,linewidth=3, solid_capstyle='round', zorder=2)"
   ]
  },
  {
   "cell_type": "markdown",
   "metadata": {},
   "source": [
    "## scaled polynomial"
   ]
  },
  {
   "cell_type": "code",
   "execution_count": 45,
   "metadata": {},
   "outputs": [
    {
     "data": {
      "text/plain": [
       "[<matplotlib.lines.Line2D at 0x7f9bc29a4518>]"
      ]
     },
     "execution_count": 45,
     "metadata": {},
     "output_type": "execute_result"
    },
    {
     "data": {
      "image/png": "[encoded data removed]",
      "text/plain": [
       "<Figure size 432x288 with 1 Axes>"
      ]
     },
     "metadata": {
      "needs_background": "light"
     },
     "output_type": "display_data"
    }
   ],
   "source": [
    "#printing polygon\n",
    "plt.xlim(0,20)\n",
    "plt.ylim(0,20)\n",
    "plt.plot(x1, y1, color='k', alpha=1,linewidth=3, solid_capstyle='round', zorder=2)\n",
    "plt.plot(x, y, color='b', alpha=1,linewidth=3, solid_capstyle='round', zorder=2)"
   ]
  },
  {
   "cell_type": "markdown",
   "metadata": {},
   "source": [
    "Hand written solution is also provided"
   ]
  },
  {
   "cell_type": "code",
   "execution_count": null,
   "metadata": {},
   "outputs": [],
   "source": []
  }
 ],
 "metadata": {
  "kernelspec": {
   "display_name": "Python 3",
   "language": "python",
   "name": "python3"
  },
  "language_info": {
   "codemirror_mode": {
    "name": "ipython",
    "version": 3
   },
   "file_extension": ".py",
   "mimetype": "text/x-python",
   "name": "python",
   "nbconvert_exporter": "python",
   "pygments_lexer": "ipython3",
   "version": "3.5.2"
  }
 },
 "nbformat": 4,
 "nbformat_minor": 2
}
